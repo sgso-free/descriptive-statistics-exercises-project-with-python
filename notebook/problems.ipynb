{
    "cells": [
        {
            "cell_type": "markdown",
            "id": "ac622319",
            "metadata": {},
            "source": [
                "# Descriptive Statistics Problems"
            ]
        },
        {
            "cell_type": "markdown",
            "id": "aa8993e4",
            "metadata": {},
            "source": [
                "### Exercise 1"
            ]
        },
        {
            "cell_type": "markdown",
            "id": "5e0ab0d5",
            "metadata": {},
            "source": [
                "As right now, you are familliar with numpy, we are going to use numpy to get some data statistics.\n",
                "\n",
                "First, lets create an array of 20 elements distributed normally (Gaussian):\n",
                "\n",
                "Use the np.random.normal function to create some data, using 0,1,20 as parameters because we want a one dimentional array of 20 numbers distributed normally (Gaussian)"
            ]
        },
        {
            "cell_type": "code",
            "execution_count": 1,
            "id": "34720ab6",
            "metadata": {},
            "outputs": [
                {
                    "data": {
                        "text/plain": [
                            "array([-0.31232848,  0.33928471, -0.15590853, -0.50178967,  0.23556889,\n",
                            "       -1.76360526, -1.09586204, -1.08776574, -0.30517005, -0.47374837,\n",
                            "       -0.20059454,  0.35519677,  0.68951772,  0.41058968, -0.56497844,\n",
                            "        0.59939069, -0.16293631,  1.6002145 ,  0.6816272 ,  0.0148801 ])"
                        ]
                    },
                    "execution_count": 1,
                    "metadata": {},
                    "output_type": "execute_result"
                }
            ],
            "source": [
                "#import libraries\n",
                "import numpy as np\n",
                "\n",
                "# Set seed in order to get similar results\n",
                "np.random.seed(15) # Make your findings reproducible\n",
                "\n",
                "# create the data\n",
                "data = np.random.normal(0,1,20)\n",
                "\n",
                "#print results\n",
                "data"
            ]
        },
        {
            "cell_type": "code",
            "execution_count": 4,
            "id": "49c55822",
            "metadata": {},
            "outputs": [
                {
                    "name": "stdout",
                    "output_type": "stream",
                    "text": [
                        "-0.08492085842561828\n"
                    ]
                }
            ],
            "source": [
                "#Use numpy to get the mean of your data\n",
                "meanData= np.mean(data)\n",
                "print(meanData)"
            ]
        },
        {
            "cell_type": "code",
            "execution_count": 5,
            "id": "03529459",
            "metadata": {},
            "outputs": [
                {
                    "name": "stdout",
                    "output_type": "stream",
                    "text": [
                        "0.5376502993766247\n"
                    ]
                }
            ],
            "source": [
                "#get the variance of your data\n",
                "varData = np.var(data)\n",
                "print(varData)"
            ]
        },
        {
            "cell_type": "code",
            "execution_count": 6,
            "id": "e53f30c5",
            "metadata": {},
            "outputs": [
                {
                    "name": "stdout",
                    "output_type": "stream",
                    "text": [
                        "0.7332464110901769\n"
                    ]
                }
            ],
            "source": [
                "# Standard deviation\n",
                "stdData = np.std(data)\n",
                "print(stdData)\n"
            ]
        },
        {
            "cell_type": "code",
            "execution_count": 7,
            "id": "9bce852f",
            "metadata": {},
            "outputs": [
                {
                    "name": "stdout",
                    "output_type": "stream",
                    "text": [
                        "ModeResult(mode=array([-1.76360526]), count=array([1]))\n"
                    ]
                }
            ],
            "source": [
                "#import libraries and print the mode\n",
                "from scipy import stats\n",
                "\n",
                "# Mode for continuous array\n",
                "modeData = stats.mode(data)\n",
                "print(modeData)\n"
            ]
        },
        {
            "cell_type": "code",
            "execution_count": 8,
            "id": "c682cb6e",
            "metadata": {},
            "outputs": [
                {
                    "name": "stdout",
                    "output_type": "stream",
                    "text": [
                        "-0.15942241954692246\n"
                    ]
                }
            ],
            "source": [
                "# Median\n",
                "medianData = np.median(data)\n",
                "print(medianData)"
            ]
        },
        {
            "cell_type": "code",
            "execution_count": 10,
            "id": "39c3fabd",
            "metadata": {},
            "outputs": [
                {
                    "data": {
                        "text/plain": [
                            "-0.15942241954692246"
                        ]
                    },
                    "execution_count": 10,
                    "metadata": {},
                    "output_type": "execute_result"
                }
            ],
            "source": [
                "# Print the Quantiles\n",
                "np.quantile(data, 0.5)\n",
                "\n",
                "# This match with np.median, why?\n",
                "the median mean that 50% of value are smaller, and 50% bigger, so quantil Q2"
            ]
        },
        {
            "cell_type": "markdown",
            "id": "46c70c3d",
            "metadata": {},
            "source": [
                "### Exercise 2\n",
                "\n",
                "Write a Python program to calculate the standard deviation of the following data:\n",
                "```py\n",
                "data = [4, 2, 5, 8, 6]\n",
                "```"
            ]
        },
        {
            "cell_type": "code",
            "execution_count": 29,
            "id": "d590308e",
            "metadata": {},
            "outputs": [
                {
                    "name": "stdout",
                    "output_type": "stream",
                    "text": [
                        "The data is: [4, 2, 5, 8, 6]\n",
                        "The averange is:  5.0\n",
                        "The standard deviation of samples 2.23606797749979\n"
                    ]
                }
            ],
            "source": [
                "import math\n",
                "import sys\n",
                "import numpy as np\n",
                "\n",
                "# Define the standard deviation function\n",
                "data = [4,2,5,8,6]\n",
                "\n",
                "def sd_calc(arr):\n",
                "\n",
                "    #code here, asumimos que es una muestra usamos n-1 en el calculo \n",
                "    n = len(arr)\n",
                "\n",
                "    #should have more than 1 item to make the avg \n",
                "    if n <= 1:\n",
                "        return 0.0\n",
                "\n",
                "    #init value\n",
                "    mean = avg_calc(arr)\n",
                "    sd = 0.0\n",
                "\n",
                "    # calculate stan. dev.\n",
                "    #sum for each item the diference with mean\n",
                "    for item in arr:\n",
                "        sd += (float(item) - mean)**2    \n",
                "    \n",
                "    sd = math.sqrt(sd / float(n-1))\n",
                "      \n",
                "    return sd\n",
                "\n",
                "# Define the average function\n",
                "\n",
                "def avg_calc(arr):\n",
                "    #code here\n",
                "    n = len(arr)\n",
                "     \n",
                "    # calculate average\n",
                "    s=0\n",
                "    for item in arr:\n",
                "        s += float(item)\n",
                "    \n",
                "\n",
                "    return s/n\n",
                "\n",
                "data = [4, 2, 5, 8, 6]\n",
                "\n",
                "#print the data\n",
                "print(\"The data is:\",data )\n",
                "print(\"The averange is: \", avg_calc(data))\n",
                "\n",
                "#print the standard deviation of the data\n",
                "print(\"The standard deviation of samples\",sd_calc(data))\n"
            ]
        },
        {
            "cell_type": "code",
            "execution_count": 28,
            "id": "1ab98572",
            "metadata": {},
            "outputs": [
                {
                    "data": {
                        "text/plain": [
                            "2.0"
                        ]
                    },
                    "execution_count": 28,
                    "metadata": {},
                    "output_type": "execute_result"
                }
            ],
            "source": [
                "\n",
                "#desviation using the populations\n",
                "an=np.array([4, 2, 5, 8, 6])\n",
                "np.std(an)\n"
            ]
        },
        {
            "cell_type": "markdown",
            "id": "04b71791",
            "metadata": {},
            "source": [
                "Source:\n",
                "\n",
                "https://www.w3resource.com/"
            ]
        }
    ],
    "metadata": {
        "kernelspec": {
            "display_name": "Python 3.8.13 64-bit ('3.8.13')",
            "language": "python",
            "name": "python3"
        },
        "language_info": {
            "codemirror_mode": {
                "name": "ipython",
                "version": 3
            },
            "file_extension": ".py",
            "mimetype": "text/x-python",
            "name": "python",
            "nbconvert_exporter": "python",
            "pygments_lexer": "ipython3",
            "version": "3.8.13"
        },
        "vscode": {
            "interpreter": {
                "hash": "110cc1dee26208153f2972f08a2ad52b6a56238dc66d48e87fb757ef2996db56"
            }
        }
    },
    "nbformat": 4,
    "nbformat_minor": 5
}
